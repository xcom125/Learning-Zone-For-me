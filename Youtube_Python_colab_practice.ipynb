{
  "nbformat": 4,
  "nbformat_minor": 0,
  "metadata": {
    "colab": {
      "provenance": [],
      "toc_visible": true,
      "authorship_tag": "ABX9TyMzoQ8DAspir+IQ2sI+LwYG",
      "include_colab_link": true
    },
    "kernelspec": {
      "name": "python3",
      "display_name": "Python 3"
    },
    "language_info": {
      "name": "python"
    }
  },
  "cells": [
    {
      "cell_type": "markdown",
      "metadata": {
        "id": "view-in-github",
        "colab_type": "text"
      },
      "source": [
        "<a href=\"https://colab.research.google.com/github/xcom125/Learning-Zone-For-me/blob/main/Youtube_Python_colab_practice.ipynb\" target=\"_parent\"><img src=\"https://colab.research.google.com/assets/colab-badge.svg\" alt=\"Open In Colab\"/></a>"
      ]
    },
    {
      "cell_type": "markdown",
      "source": [
        "## Statement (LEARN SOME BASIC)"
      ],
      "metadata": {
        "id": "LQFLy0hIifr1"
      }
    },
    {
      "cell_type": "markdown",
      "source": [
        "### Hello World"
      ],
      "metadata": {
        "id": "g_HIdPFOivzn"
      }
    },
    {
      "cell_type": "code",
      "source": [
        "print (\"hello, world!\")"
      ],
      "metadata": {
        "colab": {
          "base_uri": "https://localhost:8080/"
        },
        "id": "er1Dqyccln5D",
        "outputId": "dd7f2849-ef6d-45ec-93dc-14b30abfd984"
      },
      "execution_count": 3,
      "outputs": [
        {
          "output_type": "stream",
          "name": "stdout",
          "text": [
            "hello, world!\n"
          ]
        }
      ]
    },
    {
      "cell_type": "markdown",
      "source": [
        "#### Basic maths"
      ],
      "metadata": {
        "id": "v7x506IVo3qq"
      }
    },
    {
      "cell_type": "code",
      "source": [
        "2-1"
      ],
      "metadata": {
        "colab": {
          "base_uri": "https://localhost:8080/"
        },
        "id": "uPGgpLqOo9lg",
        "outputId": "808fa38b-40a0-4e88-c48c-782a4920b71d"
      },
      "execution_count": 11,
      "outputs": [
        {
          "output_type": "execute_result",
          "data": {
            "text/plain": [
              "1"
            ]
          },
          "metadata": {},
          "execution_count": 11
        }
      ]
    },
    {
      "cell_type": "code",
      "source": [
        "x = 1\n",
        "y = 2\n",
        "result = x + y\n",
        "print(f\"This is the result {result}\")"
      ],
      "metadata": {
        "colab": {
          "base_uri": "https://localhost:8080/"
        },
        "id": "mNvgMyT4mWgD",
        "outputId": "ed8a0f67-050a-451a-c5ff-9760f185e552"
      },
      "execution_count": 8,
      "outputs": [
        {
          "output_type": "stream",
          "name": "stdout",
          "text": [
            "This is the result 3\n"
          ]
        }
      ]
    },
    {
      "cell_type": "code",
      "source": [
        "x = 15\n",
        "y = 2\n",
        "result = x - y\n",
        "print(f\"This is the result {result}\")"
      ],
      "metadata": {
        "colab": {
          "base_uri": "https://localhost:8080/"
        },
        "id": "Vl-Opqg8ot3P",
        "outputId": "b7b28512-552a-41d2-c334-c43274459fec"
      },
      "execution_count": 10,
      "outputs": [
        {
          "output_type": "stream",
          "name": "stdout",
          "text": [
            "This is the result 13\n"
          ]
        }
      ]
    },
    {
      "cell_type": "markdown",
      "source": [
        "### Data Structures"
      ],
      "metadata": {
        "id": "91CWNKsgnbJr"
      }
    },
    {
      "cell_type": "markdown",
      "source": [
        "#### List"
      ],
      "metadata": {
        "id": "SXgIB3DupP13"
      }
    },
    {
      "cell_type": "code",
      "source": [
        "my_list = []\n",
        "my_list.append(\"cherry\")\n",
        "print(my_list)"
      ],
      "metadata": {
        "colab": {
          "base_uri": "https://localhost:8080/"
        },
        "id": "J0H6EkSzpoyR",
        "outputId": "e21cc60e-a567-415c-ad20-86c52b2095b6"
      },
      "execution_count": 12,
      "outputs": [
        {
          "output_type": "stream",
          "name": "stdout",
          "text": [
            "['cherry']\n"
          ]
        }
      ]
    },
    {
      "cell_type": "code",
      "source": [
        "my_list.append(\"apple\")\n",
        "print(my_list)"
      ],
      "metadata": {
        "colab": {
          "base_uri": "https://localhost:8080/"
        },
        "id": "ixeHTvSUqElu",
        "outputId": "ca4741fa-4693-47ab-fddf-cc5f7d5167da"
      },
      "execution_count": 13,
      "outputs": [
        {
          "output_type": "stream",
          "name": "stdout",
          "text": [
            "['cherry', 'apple']\n"
          ]
        }
      ]
    },
    {
      "cell_type": "markdown",
      "source": [
        "##### Looping"
      ],
      "metadata": {
        "id": "QZtZlhlRqbNa"
      }
    },
    {
      "cell_type": "code",
      "source": [
        "for fruit in my_list:\n",
        "  print(f\"i love to eat this type of fruit: {fruit}\")"
      ],
      "metadata": {
        "colab": {
          "base_uri": "https://localhost:8080/"
        },
        "id": "YjvjY3sLqsHL",
        "outputId": "9aa6042e-7a90-46b7-f450-8a317e610cd1"
      },
      "execution_count": 15,
      "outputs": [
        {
          "output_type": "stream",
          "name": "stdout",
          "text": [
            "i love to eat this type of fruit: cherry\n",
            "i love to eat this type of fruit: apple\n"
          ]
        }
      ]
    }
  ]
}