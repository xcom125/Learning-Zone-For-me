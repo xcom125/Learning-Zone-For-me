{
  "nbformat": 4,
  "nbformat_minor": 0,
  "metadata": {
    "colab": {
      "provenance": [],
      "toc_visible": true,
      "authorship_tag": "ABX9TyPTXRtzToXjs2GiH3YichwG",
      "include_colab_link": true
    },
    "kernelspec": {
      "name": "python3",
      "display_name": "Python 3"
    },
    "language_info": {
      "name": "python"
    }
  },
  "cells": [
    {
      "cell_type": "markdown",
      "metadata": {
        "id": "view-in-github",
        "colab_type": "text"
      },
      "source": [
        "<a href=\"https://colab.research.google.com/github/xcom125/Learning-Zone-For-me/blob/main/Youtube_Python_colab_practice.ipynb\" target=\"_parent\"><img src=\"https://colab.research.google.com/assets/colab-badge.svg\" alt=\"Open In Colab\"/></a>"
      ]
    },
    {
      "cell_type": "markdown",
      "source": [
        "# Lets Learn"
      ],
      "metadata": {
        "id": "cs_qMMzliaRE"
      }
    },
    {
      "cell_type": "markdown",
      "source": [
        "## Statement"
      ],
      "metadata": {
        "id": "LQFLy0hIifr1"
      }
    },
    {
      "cell_type": "markdown",
      "source": [
        "### Hello Python"
      ],
      "metadata": {
        "id": "g_HIdPFOivzn"
      }
    }
  ]
}